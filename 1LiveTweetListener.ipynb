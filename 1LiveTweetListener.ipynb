{
 "cells": [
  {
   "cell_type": "code",
   "execution_count": 3,
   "id": "76151a13-1306-4ef6-bc62-d5a6cf7326d9",
   "metadata": {},
   "outputs": [],
   "source": [
    "import warnings\n",
    "warnings.filterwarnings('ignore')\n"
   ]
  },
  {
   "cell_type": "code",
   "execution_count": 4,
   "id": "992c7ddc-8efc-4ec2-8f2d-87050dbf2f8c",
   "metadata": {},
   "outputs": [],
   "source": [
    "from tweepy import Stream\n",
    "from tweepy import OAuthHandler"
   ]
  },
  {
   "cell_type": "code",
   "execution_count": 5,
   "id": "29d15197-fbae-47c9-8443-71bfc4849e4b",
   "metadata": {},
   "outputs": [],
   "source": [
    "import tweepy\n",
    "import json\n",
    "class TweetListener(Stream):\n",
    "    def __init__(self, *args, csocket):\n",
    "        super().__init__(*args)\n",
    "        self.client_socket = csocket\n",
    "    def on_data(self, data):\n",
    "        try:\n",
    "            # Load data\n",
    "            msg = json.loads(data)\n",
    "            # Read extended Tweet if available\n",
    "            #print(type(msg[\"user\"][\"location\"]))\n",
    "            if msg[\"user\"][\"location\"]!=None:\n",
    "                if \"extended_tweet\" in msg:\n",
    "                    # Add \"__end\" at the end of each Tweet\n",
    "                    self.client_socket.send(str(\"TWEET__AN,\"+msg['extended_tweet']['full_text']+\"____SEP,\"+msg['user']['location']+\"____SEP,\"+str(msg['favorite_count'])+\"____SEP,\"+str(msg['user']['followers_count'])+\"____SEP,\"+str(msg['created_at'])+\"____SEP,\"+str(msg['user']['name'])).encode('utf-8'))\n",
    "                    #print(msg)\n",
    "                    # Else read Tweet text\n",
    "                else:\n",
    "                    # Add \"__end\" at the end of each Tweet\n",
    "                    self.client_socket.send(str(\"TWEET__AN,\"+msg['text']+\"____SEP,\"+msg['user']['location']+\"____SEP,\"+str(msg['favorite_count'])+\"____SEP,\"+str(msg['user']['followers_count'])+\"____SEP,\"+str(msg['created_at'])+\"____SEP,\"+str(msg['user']['name'])).encode('utf-8'))\n",
    "                    \n",
    "                    #print(msg)\n",
    "            else:\n",
    "                if \"extended_tweet\" in msg:\n",
    "                    # Add \"__end\" at the end of each Tweet\n",
    "                    self.client_socket.send(str(\"TWEET__AN,\"+msg['extended_tweet']['full_text']+\"____SEP,\"+\"Null\"+\"____SEP,\"+str(msg['favorite_count'])+\"____SEP,\"+str(msg['user']['followers_count'])+\"____SEP,\"+str(msg['created_at'])+str(msg['user']['name'])).encode('utf-8'))\n",
    "                    #print(msg)\n",
    "                    # Else read Tweet text\n",
    "                else:\n",
    "                    # Add \"__end\" at the end of each Tweet\n",
    "                    self.client_socket.send(str(\"TWEET__AN,\"+msg['text']+\"____SEP,\"+\"Null\"+\"____SEP,\"+str(msg['favorite_count'])+\"____SEP,\"+str(msg['user']['followers_count'])+\"____SEP,\"+str(msg['created_at'])+str(msg['user']['name'])).encode('utf-8'))\n",
    "                    #print(msg)\n",
    "                \n",
    "                return True\n",
    "        except BaseException as e:\n",
    "            print(\"error on_data: %s\" % str(e))\n",
    "        return True\n",
    "    def on_error(self, status):\n",
    "        print(status)\n",
    "        return True"
   ]
  },
  {
   "cell_type": "code",
   "execution_count": 6,
   "id": "712059eb-e554-4467-84cf-65e27e6ad136",
   "metadata": {},
   "outputs": [],
   "source": [
    "consumer_key = '8Pkfcw7uZneKVa6d4XURuRulS'\n",
    "consumer_secret = 'SJui7792naNbDd50j8fACIbzDzgE5d1xJARruvj9fZ1pH9LqAr'\n",
    "access_token = '1556811857129836546-XldGGPLlAMZNaMURlk58a57Z2bgN8I'\n",
    "access_secret = 'AgMv9wVzC0DnWHvviPUWxHD4Zrh6JzznaQQPyl1EhFqK4'\n",
    "API_KEY = 'i6IAo4DsMDcc2gbqJI2wUJLXe'\n",
    "API_SECRET = 'KY0tWxkk7K1MqchOrcTTEkpDZZ8z19nLxKnFNZgNC5gWa0leJd'\n",
    "def sendData(c_socket, keyword):\n",
    "    print(\"Start sending data from Twitter to socket\")\n",
    "    # Authentication based on the developer credentials from twitter\n",
    "    auth = OAuthHandler(API_KEY, API_SECRET)\n",
    "    auth.set_access_token(access_token, access_secret)\n",
    "    # Send data from the Stream API\n",
    "    twitter_stream = TweetListener(\n",
    "        consumer_key, consumer_secret,\n",
    "        access_token, access_secret,\n",
    "        csocket=c_socket\n",
    "    )\n",
    "    # Filter by keyword and language\n",
    "    twitter_stream.filter(track = keyword, languages=[\"en\"])"
   ]
  },
  {
   "cell_type": "code",
   "execution_count": null,
   "id": "c72e91c4-30d9-4a94-bacb-1bba3073352a",
   "metadata": {},
   "outputs": [
    {
     "name": "stdout",
     "output_type": "stream",
     "text": [
      "Socket is established\n",
      "Socket is listening\n",
      "Start sending data from Twitter to socket\n"
     ]
    },
    {
     "name": "stderr",
     "output_type": "stream",
     "text": [
      "Stream encountered HTTP error: 404\n",
      "Stream encountered HTTP error: 404\n",
      "Stream encountered HTTP error: 404\n",
      "Stream encountered HTTP error: 404\n"
     ]
    }
   ],
   "source": [
    "import socket\n",
    "# Create listening socket on server (local)\n",
    "s = socket.socket()\n",
    "host = \"0.0.0.0\"\n",
    "port = 5005\n",
    "\n",
    "\n",
    "s.bind((host, port))\n",
    "print(\"Socket is established\")\n",
    "s.listen(4)\n",
    "print(\"Socket is listening\")\n",
    "c_socket, addr = s.accept()\n",
    "sendData(c_socket, keyword = [\"X-Men\",\"Alexis Morris\",\"Justin Jones\",\"Haley Jones\"])"
   ]
  },
  {
   "cell_type": "code",
   "execution_count": null,
   "id": "16c98381-5257-4773-8e7f-3a4d11bd7716",
   "metadata": {},
   "outputs": [],
   "source": []
  },
  {
   "cell_type": "code",
   "execution_count": null,
   "id": "1b16258e-589a-4b67-aff7-2c0a92ef4896",
   "metadata": {},
   "outputs": [],
   "source": []
  },
  {
   "cell_type": "code",
   "execution_count": null,
   "id": "98287717-2440-45d1-8856-9ce33dfc0a8b",
   "metadata": {},
   "outputs": [],
   "source": []
  },
  {
   "cell_type": "code",
   "execution_count": null,
   "id": "abcf4967-4b38-4de9-aa0a-1681549b0a32",
   "metadata": {},
   "outputs": [],
   "source": []
  },
  {
   "cell_type": "code",
   "execution_count": null,
   "id": "f11f4542-298d-4322-80a7-8c9f8d276f7b",
   "metadata": {},
   "outputs": [],
   "source": []
  }
 ],
 "metadata": {
  "kernelspec": {
   "display_name": "Python 3 (ipykernel)",
   "language": "python",
   "name": "python3"
  },
  "language_info": {
   "codemirror_mode": {
    "name": "ipython",
    "version": 3
   },
   "file_extension": ".py",
   "mimetype": "text/x-python",
   "name": "python",
   "nbconvert_exporter": "python",
   "pygments_lexer": "ipython3",
   "version": "3.9.13"
  }
 },
 "nbformat": 4,
 "nbformat_minor": 5
}
